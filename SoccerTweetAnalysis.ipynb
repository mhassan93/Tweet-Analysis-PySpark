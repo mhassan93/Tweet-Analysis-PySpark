{
  "nbformat": 4,
  "nbformat_minor": 0,
  "metadata": {
    "kernelspec": {
      "display_name": "Python 3",
      "language": "python",
      "name": "python3"
    },
    "language_info": {
      "codemirror_mode": {
        "name": "ipython",
        "version": 3
      },
      "file_extension": ".py",
      "mimetype": "text/x-python",
      "name": "python",
      "nbconvert_exporter": "python",
      "pygments_lexer": "ipython3",
      "version": "3.7.7"
    },
    "colab": {
      "name": "SoccerTweetAnalysis.ipynb",
      "provenance": [],
      "collapsed_sections": [],
      "toc_visible": true
    },
    "accelerator": "GPU"
  },
  "cells": [
    {
      "cell_type": "markdown",
      "metadata": {
        "id": "curjE98ae5oj"
      },
      "source": [
        "# Setting up the environment"
      ]
    },
    {
      "cell_type": "code",
      "metadata": {
        "colab": {
          "base_uri": "https://localhost:8080/",
          "height": 0
        },
        "id": "zAh3cMVthXeG",
        "outputId": "217a4c1f-5cc2-4e96-8685-b7f7414520df"
      },
      "source": [
        "!pip install pyspark\n",
        "!pip install -U -q PyDrive\n",
        "!apt install openjdk-8-jdk-headless -qq\n",
        "import os\n",
        "os.environ[\"JAVA_HOME\"] = \"/usr/lib/jvm/java-8-openjdk-amd64\""
      ],
      "execution_count": 2,
      "outputs": [
        {
          "output_type": "stream",
          "text": [
            "Collecting pyspark\n",
            "\u001b[?25l  Downloading https://files.pythonhosted.org/packages/f0/26/198fc8c0b98580f617cb03cb298c6056587b8f0447e20fa40c5b634ced77/pyspark-3.0.1.tar.gz (204.2MB)\n",
            "\u001b[K     |████████████████████████████████| 204.2MB 74kB/s \n",
            "\u001b[?25hCollecting py4j==0.10.9\n",
            "\u001b[?25l  Downloading https://files.pythonhosted.org/packages/9e/b6/6a4fb90cd235dc8e265a6a2067f2a2c99f0d91787f06aca4bcf7c23f3f80/py4j-0.10.9-py2.py3-none-any.whl (198kB)\n",
            "\u001b[K     |████████████████████████████████| 204kB 44.4MB/s \n",
            "\u001b[?25hBuilding wheels for collected packages: pyspark\n",
            "  Building wheel for pyspark (setup.py) ... \u001b[?25l\u001b[?25hdone\n",
            "  Created wheel for pyspark: filename=pyspark-3.0.1-py2.py3-none-any.whl size=204612243 sha256=f1551111abb28d077b49ef28994668e643455eaea3c9bf6367c7ebfc25ab1657\n",
            "  Stored in directory: /root/.cache/pip/wheels/5e/bd/07/031766ca628adec8435bb40f0bd83bb676ce65ff4007f8e73f\n",
            "Successfully built pyspark\n",
            "Installing collected packages: py4j, pyspark\n",
            "Successfully installed py4j-0.10.9 pyspark-3.0.1\n",
            "The following additional packages will be installed:\n",
            "  openjdk-8-jre-headless\n",
            "Suggested packages:\n",
            "  openjdk-8-demo openjdk-8-source libnss-mdns fonts-dejavu-extra\n",
            "  fonts-ipafont-gothic fonts-ipafont-mincho fonts-wqy-microhei\n",
            "  fonts-wqy-zenhei fonts-indic\n",
            "The following NEW packages will be installed:\n",
            "  openjdk-8-jdk-headless openjdk-8-jre-headless\n",
            "0 upgraded, 2 newly installed, 0 to remove and 14 not upgraded.\n",
            "Need to get 36.5 MB of archives.\n",
            "After this operation, 143 MB of additional disk space will be used.\n",
            "Selecting previously unselected package openjdk-8-jre-headless:amd64.\n",
            "(Reading database ... 144865 files and directories currently installed.)\n",
            "Preparing to unpack .../openjdk-8-jre-headless_8u275-b01-0ubuntu1~18.04_amd64.deb ...\n",
            "Unpacking openjdk-8-jre-headless:amd64 (8u275-b01-0ubuntu1~18.04) ...\n",
            "Selecting previously unselected package openjdk-8-jdk-headless:amd64.\n",
            "Preparing to unpack .../openjdk-8-jdk-headless_8u275-b01-0ubuntu1~18.04_amd64.deb ...\n",
            "Unpacking openjdk-8-jdk-headless:amd64 (8u275-b01-0ubuntu1~18.04) ...\n",
            "Setting up openjdk-8-jre-headless:amd64 (8u275-b01-0ubuntu1~18.04) ...\n",
            "update-alternatives: using /usr/lib/jvm/java-8-openjdk-amd64/jre/bin/orbd to provide /usr/bin/orbd (orbd) in auto mode\n",
            "update-alternatives: using /usr/lib/jvm/java-8-openjdk-amd64/jre/bin/servertool to provide /usr/bin/servertool (servertool) in auto mode\n",
            "update-alternatives: using /usr/lib/jvm/java-8-openjdk-amd64/jre/bin/tnameserv to provide /usr/bin/tnameserv (tnameserv) in auto mode\n",
            "Setting up openjdk-8-jdk-headless:amd64 (8u275-b01-0ubuntu1~18.04) ...\n",
            "update-alternatives: using /usr/lib/jvm/java-8-openjdk-amd64/bin/idlj to provide /usr/bin/idlj (idlj) in auto mode\n",
            "update-alternatives: using /usr/lib/jvm/java-8-openjdk-amd64/bin/wsimport to provide /usr/bin/wsimport (wsimport) in auto mode\n",
            "update-alternatives: using /usr/lib/jvm/java-8-openjdk-amd64/bin/jsadebugd to provide /usr/bin/jsadebugd (jsadebugd) in auto mode\n",
            "update-alternatives: using /usr/lib/jvm/java-8-openjdk-amd64/bin/native2ascii to provide /usr/bin/native2ascii (native2ascii) in auto mode\n",
            "update-alternatives: using /usr/lib/jvm/java-8-openjdk-amd64/bin/javah to provide /usr/bin/javah (javah) in auto mode\n",
            "update-alternatives: using /usr/lib/jvm/java-8-openjdk-amd64/bin/clhsdb to provide /usr/bin/clhsdb (clhsdb) in auto mode\n",
            "update-alternatives: using /usr/lib/jvm/java-8-openjdk-amd64/bin/xjc to provide /usr/bin/xjc (xjc) in auto mode\n",
            "update-alternatives: using /usr/lib/jvm/java-8-openjdk-amd64/bin/hsdb to provide /usr/bin/hsdb (hsdb) in auto mode\n",
            "update-alternatives: using /usr/lib/jvm/java-8-openjdk-amd64/bin/schemagen to provide /usr/bin/schemagen (schemagen) in auto mode\n",
            "update-alternatives: using /usr/lib/jvm/java-8-openjdk-amd64/bin/extcheck to provide /usr/bin/extcheck (extcheck) in auto mode\n",
            "update-alternatives: using /usr/lib/jvm/java-8-openjdk-amd64/bin/jhat to provide /usr/bin/jhat (jhat) in auto mode\n",
            "update-alternatives: using /usr/lib/jvm/java-8-openjdk-amd64/bin/wsgen to provide /usr/bin/wsgen (wsgen) in auto mode\n"
          ],
          "name": "stdout"
        }
      ]
    },
    {
      "cell_type": "code",
      "metadata": {
        "id": "-vmXhJ2khNxk"
      },
      "source": [
        "# Import and create a new SQLContext \n",
        "import pyspark\n",
        "from pyspark.sql import *\n",
        "from pyspark.sql.functions import *\n",
        "from pyspark import SparkContext, SparkConf\n",
        "import pyspark.sql.functions as f\n",
        "from pyspark.sql.window import Window"
      ],
      "execution_count": 3,
      "outputs": []
    },
    {
      "cell_type": "code",
      "metadata": {
        "colab": {
          "base_uri": "https://localhost:8080/",
          "height": 0
        },
        "id": "KcVs_Sb3hnLy",
        "outputId": "41e2fcc5-1863-41f1-c024-6c9945c47df3"
      },
      "source": [
        "from google.colab import drive\n",
        "drive.mount('/content/drive')"
      ],
      "execution_count": 4,
      "outputs": [
        {
          "output_type": "stream",
          "text": [
            "Mounted at /content/drive\n"
          ],
          "name": "stdout"
        }
      ]
    },
    {
      "cell_type": "code",
      "metadata": {
        "id": "6Tix4asbzmYj"
      },
      "source": [
        "conf = SparkConf().set(\"spark.ui.port\", \"4050\")\n",
        "sc = SparkContext.getOrCreate(conf = conf)\n",
        "sqlContext = SQLContext(sc)"
      ],
      "execution_count": 5,
      "outputs": []
    },
    {
      "cell_type": "code",
      "metadata": {
        "id": "DxAKModlNoXE"
      },
      "source": [
        "spark = SparkSession.builder.getOrCreate()"
      ],
      "execution_count": 6,
      "outputs": []
    },
    {
      "cell_type": "markdown",
      "metadata": {
        "id": "TnXakTa9fBXj"
      },
      "source": [
        "# Reading files"
      ]
    },
    {
      "cell_type": "code",
      "metadata": {
        "id": "ktRK-qQ7hNxk",
        "colab": {
          "base_uri": "https://localhost:8080/",
          "height": 0
        },
        "outputId": "b07692f1-1cf3-466d-a8c0-6f2850541e3f"
      },
      "source": [
        "# Read the country CSV file into an RDD.\n",
        "country_lines = sc.textFile('.../country-list.csv')\n",
        "country_lines.count()"
      ],
      "execution_count": 77,
      "outputs": [
        {
          "output_type": "execute_result",
          "data": {
            "text/plain": [
              "211"
            ]
          },
          "metadata": {
            "tags": []
          },
          "execution_count": 77
        }
      ]
    },
    {
      "cell_type": "code",
      "metadata": {
        "id": "eheLDvEWhNxk",
        "colab": {
          "base_uri": "https://localhost:8080/",
          "height": 0
        },
        "outputId": "46410692-63e1-4d3f-b9f4-55348e5bc040"
      },
      "source": [
        "# Read tweets JSON file\n",
        "tweets = spark.read.json(\".../users.json\")\n",
        "tweets.printSchema()\n",
        "tweets.count()"
      ],
      "execution_count": 80,
      "outputs": [
        {
          "output_type": "stream",
          "text": [
            "root\n",
            " |-- _id: struct (nullable = true)\n",
            " |    |-- $oid: string (nullable = true)\n",
            " |-- coordinates: string (nullable = true)\n",
            " |-- retweet_count: long (nullable = true)\n",
            " |-- source: string (nullable = true)\n",
            " |-- tweet_ID: string (nullable = true)\n",
            " |-- tweet_followers_count: long (nullable = true)\n",
            " |-- tweet_mentioned_count: long (nullable = true)\n",
            " |-- tweet_text: string (nullable = true)\n",
            " |-- user: struct (nullable = true)\n",
            " |    |-- CreatedAt: struct (nullable = true)\n",
            " |    |    |-- $date: string (nullable = true)\n",
            " |    |-- FavouritesCount: long (nullable = true)\n",
            " |    |-- FollowersCount: long (nullable = true)\n",
            " |    |-- FriendsCount: long (nullable = true)\n",
            " |    |-- Location: string (nullable = true)\n",
            " |    |-- UserId: long (nullable = true)\n",
            " |-- user_name: string (nullable = true)\n",
            "\n"
          ],
          "name": "stdout"
        },
        {
          "output_type": "execute_result",
          "data": {
            "text/plain": [
              "11188"
            ]
          },
          "metadata": {
            "tags": []
          },
          "execution_count": 80
        }
      ]
    },
    {
      "cell_type": "markdown",
      "metadata": {
        "id": "7Nvvd4dUfIwL"
      },
      "source": [
        "# Data Preprocessing\n",
        "\n",
        "\n",
        "\n"
      ]
    },
    {
      "cell_type": "code",
      "metadata": {
        "colab": {
          "base_uri": "https://localhost:8080/",
          "height": 0
        },
        "id": "VH7fUoXfhNxk",
        "outputId": "dc17a524-5ecc-4bd9-b78d-765653a8d856"
      },
      "source": [
        "# Convert each pair of words into a tuple\n",
        "country_tuples = country_lines.map(lambda x: (x.split(\",\")[0], x.split(\",\")[1]))\n",
        "country_tuples.take(5)"
      ],
      "execution_count": 78,
      "outputs": [
        {
          "output_type": "execute_result",
          "data": {
            "text/plain": [
              "[('Afghanistan', ' AFG'),\n",
              " ('Albania', ' ALB'),\n",
              " ('Algeria', ' ALG'),\n",
              " ('American Samoa', ' ASA'),\n",
              " ('Andorra', ' AND')]"
            ]
          },
          "metadata": {
            "tags": []
          },
          "execution_count": 78
        }
      ]
    },
    {
      "cell_type": "code",
      "metadata": {
        "id": "-bzyxINkhNxk",
        "colab": {
          "base_uri": "https://localhost:8080/",
          "height": 0
        },
        "outputId": "571fce02-156a-4a89-fa6d-40dcde5cc93b"
      },
      "source": [
        "# Create the DataFrame, look at schema and contents\n",
        "countryDF = sqlContext.createDataFrame(country_tuples, [\"country\", \"code\"])\n",
        "countryDF.printSchema()\n",
        "countryDF.show()"
      ],
      "execution_count": 79,
      "outputs": [
        {
          "output_type": "stream",
          "text": [
            "root\n",
            " |-- country: string (nullable = true)\n",
            " |-- code: string (nullable = true)\n",
            "\n",
            "+-------------------+----+\n",
            "|            country|code|\n",
            "+-------------------+----+\n",
            "|        Afghanistan| AFG|\n",
            "|            Albania| ALB|\n",
            "|            Algeria| ALG|\n",
            "|     American Samoa| ASA|\n",
            "|            Andorra| AND|\n",
            "|             Angola| ANG|\n",
            "|           Anguilla| AIA|\n",
            "|Antigua and Barbuda| ATG|\n",
            "|          Argentina| ARG|\n",
            "|            Armenia| ARM|\n",
            "|              Aruba| ARU|\n",
            "|          Australia| AUS|\n",
            "|            Austria| AUT|\n",
            "|         Azerbaijan| AZE|\n",
            "|            Bahamas| BAH|\n",
            "|            Bahrain| BHR|\n",
            "|         Bangladesh| BAN|\n",
            "|           Barbados| BRB|\n",
            "|            Belarus| BLR|\n",
            "|            Belgium| BEL|\n",
            "+-------------------+----+\n",
            "only showing top 20 rows\n",
            "\n"
          ],
          "name": "stdout"
        }
      ]
    },
    {
      "cell_type": "markdown",
      "metadata": {
        "id": "QUkHFRIWfVGC"
      },
      "source": [
        "# Cleaning the tweets for special characters"
      ]
    },
    {
      "cell_type": "code",
      "metadata": {
        "id": "lNVz-SweuIjD"
      },
      "source": [
        "#cleaning tweets by removing special characters\n",
        "tweets = tweets.withColumn(\"clean_tweets\", f.regexp_replace('tweet_text', ',|-|_|:|#|!', ' '))"
      ],
      "execution_count": 141,
      "outputs": []
    },
    {
      "cell_type": "code",
      "metadata": {
        "id": "KI1hNdnXhNxk"
      },
      "source": [
        "# Lines for checking if a specific country exists in the tweets\n",
        "# tweets.select(\"tweet_text\").filter(tweets.tweet_text.contains(\"Maldives\")).collect()\n",
        "# tweets.select(\"clean_tweets\").filter(tweets.tweet_text.contains(\"Maldives\")).collect()"
      ],
      "execution_count": 166,
      "outputs": []
    },
    {
      "cell_type": "markdown",
      "metadata": {
        "id": "-Ly4_Zr-fb_s"
      },
      "source": [
        "# Word Count for tweets"
      ]
    },
    {
      "cell_type": "code",
      "metadata": {
        "id": "8XPFDYgohNxk"
      },
      "source": [
        "# Perform WordCount on the cleaned tweet texts. (note: this is several lines.)\n",
        "word_count = tweets.withColumn('country', f.explode(f.split(f.col('clean_tweets'), ' ')))\\\n",
        "    .groupBy('country')\\\n",
        "    .count()\\\n",
        "    .sort('count', ascending=False)"
      ],
      "execution_count": 142,
      "outputs": []
    },
    {
      "cell_type": "code",
      "metadata": {
        "colab": {
          "base_uri": "https://localhost:8080/",
          "height": 0
        },
        "id": "SSPxnByrzEbo",
        "outputId": "fe67da44-bf52-4a3e-92bf-ceb6354f5326"
      },
      "source": [
        "word_count.show()"
      ],
      "execution_count": 143,
      "outputs": [
        {
          "output_type": "stream",
          "text": [
            "+---------+-----+\n",
            "|  country|count|\n",
            "+---------+-----+\n",
            "|         |21172|\n",
            "|    https| 9759|\n",
            "|       RT| 5927|\n",
            "|       to| 5842|\n",
            "|      the| 4247|\n",
            "|     when| 3906|\n",
            "|     FIFA| 3508|\n",
            "|      you| 2759|\n",
            "| football| 2539|\n",
            "|     from| 2331|\n",
            "|        a| 2125|\n",
            "|       he| 2038|\n",
            "|    could| 1923|\n",
            "|     away| 1887|\n",
            "|      run| 1882|\n",
            "|Throwback| 1835|\n",
            "|    tried| 1831|\n",
            "|     book| 1824|\n",
            "|      ref| 1821|\n",
            "|     you.| 1821|\n",
            "+---------+-----+\n",
            "only showing top 20 rows\n",
            "\n"
          ],
          "name": "stdout"
        }
      ]
    },
    {
      "cell_type": "code",
      "metadata": {
        "id": "I8dJvIrL8vwV"
      },
      "source": [
        "# Join the country and tweet DataFrames (on the appropriate column)\n",
        "word_count = word_count.withColumn(\"country\",f.lower(f.col(\"country\")))\n",
        "countryDF = countryDF.withColumn(\"country\",f.lower(f.col(\"country\")))"
      ],
      "execution_count": 144,
      "outputs": []
    },
    {
      "cell_type": "markdown",
      "metadata": {
        "id": "_bGIn5j9fjNu"
      },
      "source": [
        "# Joining Dataframes"
      ]
    },
    {
      "cell_type": "code",
      "metadata": {
        "id": "6-800y9eGdSy"
      },
      "source": [
        "final_df = word_count.join(countryDF, on=[\"country\"])"
      ],
      "execution_count": 145,
      "outputs": []
    },
    {
      "cell_type": "code",
      "metadata": {
        "colab": {
          "base_uri": "https://localhost:8080/",
          "height": 0
        },
        "id": "0DllJrA2uVAm",
        "outputId": "52116ea2-e138-471f-c5c7-8a34a84dddab"
      },
      "source": [
        "final_df = final_df.groupBy('country').sum()\n",
        "final_df.printSchema()"
      ],
      "execution_count": 146,
      "outputs": [
        {
          "output_type": "stream",
          "text": [
            "root\n",
            " |-- country: string (nullable = true)\n",
            " |-- sum(count): long (nullable = true)\n",
            "\n"
          ],
          "name": "stdout"
        }
      ]
    },
    {
      "cell_type": "code",
      "metadata": {
        "colab": {
          "base_uri": "https://localhost:8080/",
          "height": 0
        },
        "id": "Q7pU5op6VeLW",
        "outputId": "7adb1e11-bfaa-426b-86fa-9ed8aca4409e"
      },
      "source": [
        "final_df.sort(asc(\"country\")).collect()\n",
        "# final_df.count()"
      ],
      "execution_count": 161,
      "outputs": [
        {
          "output_type": "execute_result",
          "data": {
            "text/plain": [
              "[Row(country='albania', sum(count)=2),\n",
              " Row(country='argentina', sum(count)=3),\n",
              " Row(country='australia', sum(count)=2),\n",
              " Row(country='austria', sum(count)=7),\n",
              " Row(country='bahamas', sum(count)=1),\n",
              " Row(country='belgium', sum(count)=1),\n",
              " Row(country='brazil', sum(count)=16),\n",
              " Row(country='canada', sum(count)=12),\n",
              " Row(country='chad', sum(count)=9),\n",
              " Row(country='chile', sum(count)=1),\n",
              " Row(country='colombia', sum(count)=2),\n",
              " Row(country='denmark', sum(count)=1),\n",
              " Row(country='england', sum(count)=35),\n",
              " Row(country='finland', sum(count)=1),\n",
              " Row(country='france', sum(count)=54),\n",
              " Row(country='gambia', sum(count)=1),\n",
              " Row(country='georgia', sum(count)=6),\n",
              " Row(country='germany', sum(count)=17),\n",
              " Row(country='ghana', sum(count)=3),\n",
              " Row(country='greece', sum(count)=1),\n",
              " Row(country='guinea', sum(count)=8),\n",
              " Row(country='hungary', sum(count)=1),\n",
              " Row(country='iceland', sum(count)=2),\n",
              " Row(country='india', sum(count)=4),\n",
              " Row(country='iran', sum(count)=1),\n",
              " Row(country='iraq', sum(count)=6),\n",
              " Row(country='israel', sum(count)=3),\n",
              " Row(country='italy', sum(count)=3),\n",
              " Row(country='jamaica', sum(count)=2),\n",
              " Row(country='japan', sum(count)=8),\n",
              " Row(country='jordan', sum(count)=7),\n",
              " Row(country='kenya', sum(count)=3),\n",
              " Row(country='kosovo', sum(count)=1),\n",
              " Row(country='malaysia', sum(count)=2),\n",
              " Row(country='maldives', sum(count)=2),\n",
              " Row(country='mexico', sum(count)=1),\n",
              " Row(country='nepal', sum(count)=1),\n",
              " Row(country='netherlands', sum(count)=13),\n",
              " Row(country='nigeria', sum(count)=66),\n",
              " Row(country='norway', sum(count)=54),\n",
              " Row(country='oman', sum(count)=1),\n",
              " Row(country='poland', sum(count)=1),\n",
              " Row(country='portugal', sum(count)=10),\n",
              " Row(country='qatar', sum(count)=4),\n",
              " Row(country='russia', sum(count)=24),\n",
              " Row(country='scotland', sum(count)=2),\n",
              " Row(country='singapore', sum(count)=1),\n",
              " Row(country='slovakia', sum(count)=30),\n",
              " Row(country='somalia', sum(count)=2),\n",
              " Row(country='spain', sum(count)=16),\n",
              " Row(country='sudan', sum(count)=2),\n",
              " Row(country='switzerland', sum(count)=7),\n",
              " Row(country='thailand', sum(count)=2),\n",
              " Row(country='turkey', sum(count)=1),\n",
              " Row(country='wales', sum(count)=19)]"
            ]
          },
          "metadata": {
            "tags": []
          },
          "execution_count": 161
        }
      ]
    },
    {
      "cell_type": "code",
      "metadata": {
        "colab": {
          "base_uri": "https://localhost:8080/",
          "height": 0
        },
        "id": "SragXWjuE8Y1",
        "outputId": "91a77703-a41e-4537-fa53-20624d7432f3"
      },
      "source": [
        "final_df.sort(\"sum(count)\", ascending = False).show()"
      ],
      "execution_count": 148,
      "outputs": [
        {
          "output_type": "stream",
          "text": [
            "+-----------+----------+\n",
            "|    country|sum(count)|\n",
            "+-----------+----------+\n",
            "|    nigeria|        66|\n",
            "|     norway|        54|\n",
            "|     france|        54|\n",
            "|    england|        35|\n",
            "|   slovakia|        30|\n",
            "|     russia|        24|\n",
            "|      wales|        19|\n",
            "|    germany|        17|\n",
            "|      spain|        16|\n",
            "|     brazil|        16|\n",
            "|netherlands|        13|\n",
            "|     canada|        12|\n",
            "|   portugal|        10|\n",
            "|       chad|         9|\n",
            "|      japan|         8|\n",
            "|     guinea|         8|\n",
            "|switzerland|         7|\n",
            "|     jordan|         7|\n",
            "|    austria|         7|\n",
            "|       iraq|         6|\n",
            "+-----------+----------+\n",
            "only showing top 20 rows\n",
            "\n"
          ],
          "name": "stdout"
        }
      ]
    },
    {
      "cell_type": "markdown",
      "metadata": {
        "id": "RxR9cHjNf85y"
      },
      "source": [
        "# Answers to the questions"
      ]
    },
    {
      "cell_type": "code",
      "metadata": {
        "id": "ORcb951XhNxk",
        "colab": {
          "base_uri": "https://localhost:8080/",
          "height": 0
        },
        "outputId": "72c6d990-9eae-47b0-fab9-f9f1ea9264f0"
      },
      "source": [
        "# Question 1: number of distinct countries mentioned\n",
        "print(final_df.count(), \" distinct are mentioned in tweets\")"
      ],
      "execution_count": 149,
      "outputs": [
        {
          "output_type": "stream",
          "text": [
            "55  distinct are mentioned in tweets\n"
          ],
          "name": "stdout"
        }
      ]
    },
    {
      "cell_type": "code",
      "metadata": {
        "id": "uoiq_zfwhNxk",
        "colab": {
          "base_uri": "https://localhost:8080/",
          "height": 0
        },
        "outputId": "73d25a5a-eb2c-45d6-899c-d82fe6174461"
      },
      "source": [
        "# Question 2: number of countries mentioned in tweets.\n",
        "from pyspark.sql.functions import sum\n",
        "final_df.select(f.sum(\"sum(count)\")).collect()[0][0]"
      ],
      "execution_count": 150,
      "outputs": [
        {
          "output_type": "execute_result",
          "data": {
            "text/plain": [
              "485"
            ]
          },
          "metadata": {
            "tags": []
          },
          "execution_count": 150
        }
      ]
    },
    {
      "cell_type": "code",
      "metadata": {
        "colab": {
          "base_uri": "https://localhost:8080/",
          "height": 0
        },
        "id": "jNX4cB9PcWxH",
        "outputId": "2ad28b30-8fe8-4fbd-b8f6-5e8fdd2c9a89"
      },
      "source": [
        "# Question 3: How many times was France mentioned? \n",
        "final_df.filter(col(\"country\").isin([\"france\"])).show()"
      ],
      "execution_count": 165,
      "outputs": [
        {
          "output_type": "stream",
          "text": [
            "+-------+----------+\n",
            "|country|sum(count)|\n",
            "+-------+----------+\n",
            "| france|        54|\n",
            "+-------+----------+\n",
            "\n"
          ],
          "name": "stdout"
        }
      ]
    },
    {
      "cell_type": "code",
      "metadata": {
        "colab": {
          "base_uri": "https://localhost:8080/",
          "height": 0
        },
        "id": "HeorVWx5dB1o",
        "outputId": "7e8310a3-5f78-481a-a554-b7ad539e9089"
      },
      "source": [
        "# Question 4: Which country has the most mentions: Kenya, Wales, or Netherlands?\n",
        "final_df.filter(col(\"country\").isin([\"wales\",\"netherland\",\"kenya\"])).show()"
      ],
      "execution_count": 164,
      "outputs": [
        {
          "output_type": "stream",
          "text": [
            "+-------+----------+\n",
            "|country|sum(count)|\n",
            "+-------+----------+\n",
            "|  kenya|         3|\n",
            "|  wales|        19|\n",
            "+-------+----------+\n",
            "\n"
          ],
          "name": "stdout"
        }
      ]
    },
    {
      "cell_type": "code",
      "metadata": {
        "id": "hfEScMVzhNxk",
        "colab": {
          "base_uri": "https://localhost:8080/",
          "height": 0
        },
        "outputId": "adff61fb-1205-4eb9-a34f-5bc06699adbf"
      },
      "source": [
        "# Table 1: top three countries and their counts.\n",
        "from pyspark.sql.functions import desc\n",
        "final_df.sort(\"sum(count)\", ascending = False).show()"
      ],
      "execution_count": 153,
      "outputs": [
        {
          "output_type": "stream",
          "text": [
            "+-----------+----------+\n",
            "|    country|sum(count)|\n",
            "+-----------+----------+\n",
            "|    nigeria|        66|\n",
            "|     france|        54|\n",
            "|     norway|        54|\n",
            "|    england|        35|\n",
            "|   slovakia|        30|\n",
            "|     russia|        24|\n",
            "|      wales|        19|\n",
            "|    germany|        17|\n",
            "|      spain|        16|\n",
            "|     brazil|        16|\n",
            "|netherlands|        13|\n",
            "|     canada|        12|\n",
            "|   portugal|        10|\n",
            "|       chad|         9|\n",
            "|      japan|         8|\n",
            "|     guinea|         8|\n",
            "|switzerland|         7|\n",
            "|     jordan|         7|\n",
            "|    austria|         7|\n",
            "|       iraq|         6|\n",
            "+-----------+----------+\n",
            "only showing top 20 rows\n",
            "\n"
          ],
          "name": "stdout"
        }
      ]
    },
    {
      "cell_type": "code",
      "metadata": {
        "id": "eDgQY4tIhNxk",
        "colab": {
          "base_uri": "https://localhost:8080/",
          "height": 0
        },
        "outputId": "483b667c-1cd1-4b65-d46f-04324e2740ec"
      },
      "source": [
        "# Table 2: counts for Wales, Iceland, and Japan.\n",
        "final_df.filter(col(\"country\").isin([\"wales\",\"iceland\",\"japan\"])).show()"
      ],
      "execution_count": 163,
      "outputs": [
        {
          "output_type": "stream",
          "text": [
            "+-------+----------+\n",
            "|country|sum(count)|\n",
            "+-------+----------+\n",
            "|  japan|         8|\n",
            "|iceland|         2|\n",
            "|  wales|        19|\n",
            "+-------+----------+\n",
            "\n"
          ],
          "name": "stdout"
        }
      ]
    }
  ]
}
